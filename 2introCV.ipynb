{
  "nbformat": 4,
  "nbformat_minor": 0,
  "metadata": {
    "colab": {
      "name": "2introCV.ipynb",
      "provenance": [],
      "collapsed_sections": [],
      "include_colab_link": true
    },
    "kernelspec": {
      "name": "python3",
      "display_name": "Python 3"
    },
    "language_info": {
      "name": "python"
    },
    "accelerator": "GPU"
  },
  "cells": [
    {
      "cell_type": "markdown",
      "metadata": {
        "id": "view-in-github",
        "colab_type": "text"
      },
      "source": [
        "<a href=\"https://colab.research.google.com/github/thammarat-ai/introAI/blob/main/2introCV.ipynb\" target=\"_parent\"><img src=\"https://colab.research.google.com/assets/colab-badge.svg\" alt=\"Open In Colab\"/></a>"
      ]
    },
    {
      "cell_type": "markdown",
      "metadata": {
        "id": "XR0dpHWV-IN1"
      },
      "source": [
        "##Introduction to Computer Vision\n",
        "ตัวอย่างเครื่องแต่งกายที่จะจดจำ\n",
        "\n",
        "<img src=\"https://www.oreilly.com/library/view/ai-and-machine/9781492078180/assets/aiml_0201.png\">\n",
        "\n",
        "ลองคิดนะ ว่าเราจะบอกอธิบาย เสื้อผ้า ให้คนที่ไม่เห็น รู้ได้อย่างไร\n",
        "ว่าอะไรคือเสื้อยืด เสื้อเชิ๊ต ชุดเดรส กระเป๋า รองเท้าผ้าใบ รองเท้าส้นสูง\n",
        "\n",
        "\n",
        "นี่เป็นอีกหนึ่งตัวอย่างถ้าใช้ rules-based programming ก็จะซับซ้อนมากๆ หรือไม่เป็นไม่ได้ที่จะเขียนคำสั่งให้ครอบคลุมทุกเงื่อนไข\n",
        "\n",
        "วิธีที่เรารู้จักเครื่องแต่งกาย เราก็รู้เพราะเราเห็นมันมากเยอะ มีคนมาสอนว่าอันนี้เรียกว่ากระเป๋านะ ถูกพ่อแม่ พี่น้องสอนมาตั้งแต่เด็กๆ จนตอนนี้เรารู้จักและบอกชนิดได้ด้วยตัวเอง\n",
        "\n",
        "คอมพิวเตอร์ก็เช่นกัน ขั้นตอนก็คล้ายๆ กันกับที่เราเรียนรู้ แต่ว่าคอมพิวเตอร์มีข้อจำกัด อย่างไรสมองคนก็มีความซับซ้อนมากกว่า\n",
        "\n",
        "ไฟล์นี้จะมาเบื้องต้นของ Computer Vision (CV)\n",
        "จะสอนให้คอมรู้จักเสื้อผ้า \n",
        "\n",
        "จะใช้ dataset ชื่อ Fashion MNIST\n",
        "\n",
        "\n"
      ]
    },
    {
      "cell_type": "markdown",
      "metadata": {
        "id": "CBcqmrK1_ZMG"
      },
      "source": [
        "##The Data: Fashion MNIST\n",
        "\n",
        "dataset สำหรับเรียนรู้ซ้อมมือหรือเปรียบเทียบประสิทธิภาพอัลกอริทึม คือ\n",
        "Modified National Institute of Standards and Technology (MNIST) database\n",
        "ประกอบด้วยภาพตัวเลขลายมือ 70,000 ของเลข 0 - 9 \n",
        "เป็นภาพขาวดำ 28 x 28\n",
        "\n",
        "ส่วน Fashion MNIST ออกแบบเลียนแบบ MNIST ด้วยจำนวนแทนกัน แล้วตัวเลข 0 - 9 เหมือนกัน แต่จะแทนด้วยเสื้อผ้าที่แตกต่างกัน 10 ชนิด\n",
        "\n",
        "<img src=\"https://www.oreilly.com/library/view/ai-and-machine/9781492078180/assets/aiml_0202.png\">\n",
        "\n",
        "MNIST รูปลายมือเขียนตัวเลข ลาเบลก็คือ 0 - 9\n",
        "\n",
        "Fashion MNIST รูปเครื่องแต่งกาย ลาเบล คือ 0 - 9 (แล้วก็มีตารางแมทว่า 0 คือ pullover เสื้อแขนยาวใส่ทางหัว, 1 = Trouser, 2 = Bag, ... [more](https://www.tensorflow.org/datasets/catalog/fashion_mnist)) \n",
        "\n",
        "\n",
        "รูปทั้งหมดเป็น monochrome หรือ ขาวดำ ทำให้แต่ละพิคเซลจะมีค่าอยู่ระหว่าง 0 - 255 \n"
      ]
    },
    {
      "cell_type": "markdown",
      "metadata": {
        "id": "5Pg6PZmqAfKD"
      },
      "source": [
        "ลองดูใกล้ๆ เข้าไป\n",
        "\n",
        "<img src=\"https://www.oreilly.com/library/view/ai-and-machine/9781492078180/assets/aiml_0203.png\">\n",
        "\n",
        "\n",
        "\n",
        "\n",
        "\n",
        "ก็เหมือนทุกรูปภาพ มันคือตารางของพิคเซล ในที่นี้จะมาขนาด 28 x 28 และต่อละพิคเซคมีค่า 0 -255 (0 = สว่างหรือขาว, 1 = มืดหรือดำ)\n",
        "\n"
      ]
    },
    {
      "cell_type": "markdown",
      "metadata": {
        "id": "lBFVKU9EAqIE"
      },
      "source": [
        "## เซลล์ประสาทเพื่อการมองเห็น (Neurons for Vision)\n",
        "\n",
        "บทแรก วิธีการง่ายคือเราใส่ X และ Y แล้วให้คอมพิวเตอร์หาความสัมพันธ์ แล้วคอมการเรียนรู้ว่าความสัมพันธ์คือ Y =2X-1 โดยการใช้เครือข่ายประสาทแบบง่าย 1 เลเยอร์และ 1 นิวรอน\n",
        "แบบตัวอย่างแรก\n",
        "<img src=\"https://www.oreilly.com/library/view/ai-and-machine/9781492078180/assets/aiml_0204.png\">\n",
        "\n",
        "วิธ๊การแบบเดียวกันใส่ X,Y แล้วหาความสัมพันธ์ ด้วยเครือข่ายประสาท (เลียนแบบการเรียนด้วยสมองของคน)\n",
        "โดย X ตอนนี้คือรูปขาวดำ แต่ละรูปเป็นเซ็ตของ 784 ค่า (28 x 28) ค่าระหว่าง 0 -255 ค่าความเข้มของสี \n",
        "\n",
        "ส่วน Y คือ เลข 0 - 9 คือ ชนิดเครื่องแต่งกายที่แตกต่างกัน \n",
        "\n",
        "เราจะให้คอมเรียนรู้หาความสัมพันธ์ของ X เพื่อหาค่า Y คอมก็จะสุ่มค่าเรียนไปเรื่อยๆ เอาคำตอบที่ได้มาเทียบคำตอบจริง แล้วปรับค่าไปเรื่อย\n",
        "\n",
        "\n",
        "\n",
        "\n",
        "\n",
        "\n",
        "\n",
        "แต่ตัวอย่างนี้คือ ค่า X คือ 748 ค่า ต่อ ภาพ แล้ว Y คือ 0 - 9 \n",
        "\n",
        "<img src=\"https://www.oreilly.com/library/view/ai-and-machine/9781492078180/assets/aiml_0205.png\">\n",
        "\n",
        "\n",
        "กล่องสี่เหลี่ยมฟ้าข้างบนคือ พิกเซลของภาพ ซึ่งคือ X \n",
        "เมื่อเทรน neural network เราก็จะโหลดไปยังชั้นของนิวรอน ในรูปทุกค่าพิกเซลถูกโหลดไปยังนิวรอนตัวแรก n0 \n",
        "\n",
        "ในนิวรอนจะมีค่า น้ำหนัก m และค่าไบแอด c เริ่มต้นที่แรกแบบสุ่ม หลังจากจะหาผลรวมของค่าผลลัพธ์ ในทุกๆ นิวรอนในชั้นของผลลัพธ์ \n",
        "โดย นิวรอน 0 จะเป็นค่าที่เป็นไปได้ของ  ลาเบล 0\n",
        "\n",
        "\n",
        "นิวรอน 1 จะเป็นค่าที่เป็นไปได้ของ  ลาเบล 1 (0 -1)\n",
        "\n",
        "...\n",
        "\n",
        "นิวรอน 9 จะเป็นค่าที่เป็นไปได้ของ  ลาเบล 9\n",
        "\n",
        "\n",
        "(ค่าความน่าจะเป็นมันจะมีค่าเป็น 1 คือ ใช้ 100% แต่ถ้า 50% = 0.5)\n",
        "\n",
        "หาผลรวม ได้ 9 มันก็คือ รองเท้า\n",
        "\n",
        "\n",
        "มันมี 10 ลาเบล การเริ่มด้วยการสุ่ม จะได้คำตอบที่ถูก 10% ของเวลา\n",
        "ซึ่งการจะทำให้มันแม่นขึ้นก็เป็นงานของ loss function and optimizer ที่ในแต่ละรอบการเทรนจะปรับพารามิเตอร์ แล้วมันจะทำให้คอมเรียนรู้ว่าอะไรเป็นรองเท้ารองเท้า อะไรคือเสื้อเสื้อ ได้ (หวังว่า)\n",
        "\n",
        "\n",
        "\n"
      ]
    },
    {
      "cell_type": "markdown",
      "metadata": {
        "id": "DoMIjZbCFnjj"
      },
      "source": [
        "## ออกแบบเครือข่ายประสาท (Designing the Neural Network)\n",
        "Neural Network = NN\n",
        "\n",
        "จากข้างบน \n",
        "\n",
        "ขั้นแรกเราจะออกแบบ NN \n"
      ]
    },
    {
      "cell_type": "code",
      "metadata": {
        "id": "eMtl4K9iF_KT"
      },
      "source": [
        "model = keras.models.Sequential([\n",
        "                                    tf.keras.layers.Flatten(input_shape=(28,28)),                        #นี่คือ input layer , Flatten คือ 2D arrat -> 1D array\n",
        "                                    tf.keras.layers.Dense(128, activation= tf.nn.relu),                   #layer of neurons (hidden layers)  128 สุ่มมา  ถ้ามากไป ก็จะช้า\n",
        "                                    tf.keras.layers.Dense(10, activation=tf.nn.softmax)                   #output layers 0 -9 \n",
        "])"
      ],
      "execution_count": null,
      "outputs": []
    },
    {
      "cell_type": "markdown",
      "metadata": {
        "id": "Qn4Apwz0GtnT"
      },
      "source": [
        "เราใช้ Sequential model ในการออกแบบเลเยอร์หรือชั้นต่างๆ ของ NN\n",
        "ในโค้ดมี 3 ชั้น \n",
        "1. ชั้น input คือ Flatten จากตารางภาพ 2D ทำการทำให้มันแบบเป็น 1D\n",
        "2. ชั้น นิวรอน เค้าเรียกว่า hidden layers ส่วน Dense คือ ให้มันเชื่อมทั่งถึงกันหมด ทำไมต้องกำหนด 128 มันเกิดจากการสุ่ม เป็นจำนวนนิวรอนในชั้นนี้ เป็นเลขอื่นๆ ได้ไหม ตอบว่าได้ \n",
        "\n",
        "จำนวนนิวรอนที่มาก ทำให้ช้า เพราะต้องเรียนหลายพารามิเตอร์ แต่มันจะทำให้ mode จำข้อมูลเทรนได้ดี แต่พอข้อมูลที่ไม่เคยเห็นมาก่อนจะแย่ (เราเรียกปรากฏการณ์นี้ว่าเกิด Overfitting) \n",
        "แต่ถ้านิวรอนน้อย ก็เรียนไว แต่จำไม่ค่อยได้ model ก็จะใช้ประโยนช์ได้น้อย\n",
        "\n",
        "\n",
        "การเลือกค่าที่ถูกต้อง เกิดจาการทดลองซ้ำแล้วซ้ำเล่า เราเรียกกระบวนการนี้ว่า hyperparameter tunning \n",
        "\n",
        "ใน ML ค่า hyperparameter คือ ค่าที่ใช้ควบคุมการเทรนนิ่ง \n",
        "ในการกลับกันค่าภายในนิวรอน ที่จะถูกเทรน เรียกว่า พารามิเตอร์\n",
        "\n",
        "สังเกตไหมว่าแต่ละชั้นต้องมี activation function เพื่อใช้ปรับค่าที่ได้ออกมาแต่ละนิวรอน ใน TensorFlow ก็มีให้เลือกใช้เยอะ แต่ในตัวอย่างชื่อว่า relu (rectified linear unit) หน้าที่ง่ายคือ จะให้ค่าที่มากกว่า 0 \n",
        "\n",
        "ชั้นสุดท้ายคือ output ใช้ softmax คือ เอาค่ามี่มากสุดของนิวรอนเท่านั้น "
      ]
    },
    {
      "cell_type": "markdown",
      "metadata": {
        "id": "IZWvdIB8KXcM"
      },
      "source": [
        "## โค้ดสมบูรณ์"
      ]
    },
    {
      "cell_type": "code",
      "metadata": {
        "id": "dPIBsOQ7AZmd"
      },
      "source": [
        "import tensorflow as tf"
      ],
      "execution_count": 1,
      "outputs": []
    },
    {
      "cell_type": "code",
      "metadata": {
        "id": "uDn0PNEJuDUn"
      },
      "source": [
        "data = tf.keras.datasets.fashion_mnist"
      ],
      "execution_count": 2,
      "outputs": []
    },
    {
      "cell_type": "code",
      "metadata": {
        "id": "jHujRKWbAlxb",
        "colab": {
          "base_uri": "https://localhost:8080/"
        },
        "outputId": "4ed8009c-ae28-4ff2-cc0f-a5430da6575b"
      },
      "source": [
        "(training_images, training_labels),(test_images, test_labels) = data.load_data()"
      ],
      "execution_count": 3,
      "outputs": [
        {
          "output_type": "stream",
          "text": [
            "Downloading data from https://storage.googleapis.com/tensorflow/tf-keras-datasets/train-labels-idx1-ubyte.gz\n",
            "32768/29515 [=================================] - 0s 0us/step\n",
            "Downloading data from https://storage.googleapis.com/tensorflow/tf-keras-datasets/train-images-idx3-ubyte.gz\n",
            "26427392/26421880 [==============================] - 0s 0us/step\n",
            "Downloading data from https://storage.googleapis.com/tensorflow/tf-keras-datasets/t10k-labels-idx1-ubyte.gz\n",
            "8192/5148 [===============================================] - 0s 0us/step\n",
            "Downloading data from https://storage.googleapis.com/tensorflow/tf-keras-datasets/t10k-images-idx3-ubyte.gz\n",
            "4423680/4422102 [==============================] - 0s 0us/step\n"
          ],
          "name": "stdout"
        }
      ]
    },
    {
      "cell_type": "code",
      "metadata": {
        "colab": {
          "base_uri": "https://localhost:8080/"
        },
        "id": "TENlbhJ5NB9F",
        "outputId": "3e64eed4-bc95-4729-e972-6cca90965448"
      },
      "source": [
        "print('Fashion MNIST Dataset shape :')\n",
        "print(\"training_images: {}\".format(training_images.shape))\n",
        "print(\"training_labels: {}\".format(training_labels.shape))\n",
        "print(\"test_images: {}\".format(test_images.shape))\n",
        "print(\"test_labels: {}\".format(test_labels.shape))"
      ],
      "execution_count": 4,
      "outputs": [
        {
          "output_type": "stream",
          "text": [
            "Fashion MNIST Dataset shape :\n",
            "training_images: (60000, 28, 28)\n",
            "training_labels: (60000,)\n",
            "test_images: (10000, 28, 28)\n",
            "test_labels: (10000,)\n"
          ],
          "name": "stdout"
        }
      ]
    },
    {
      "cell_type": "code",
      "metadata": {
        "id": "k_RsmGaCNs6N"
      },
      "source": [
        "#normalizing\n",
        "training_images = training_images / 255.0\n",
        "test_images = test_images / 255.0"
      ],
      "execution_count": 5,
      "outputs": []
    },
    {
      "cell_type": "code",
      "metadata": {
        "colab": {
          "base_uri": "https://localhost:8080/"
        },
        "id": "gGPZyEh2NwPc",
        "outputId": "bbe42b44-0dbc-4f7e-d822-b7af29ad6bf2"
      },
      "source": [
        "print('Fashion MNIST Dataset shape :')\n",
        "print(\"training_images: {}\".format(training_images.shape))\n",
        "\n",
        "print(\"test_images: {}\".format(test_images.shape))\n"
      ],
      "execution_count": 6,
      "outputs": [
        {
          "output_type": "stream",
          "text": [
            "Fashion MNIST Dataset shape :\n",
            "training_images: (60000, 28, 28)\n",
            "test_images: (10000, 28, 28)\n"
          ],
          "name": "stdout"
        }
      ]
    },
    {
      "cell_type": "code",
      "metadata": {
        "id": "-Z6PKsazKg6M"
      },
      "source": [
        "model = tf.keras.models.Sequential([\n",
        "                                    tf.keras.layers.Flatten(input_shape=(28,28)),                        #นี่คือ input layer , Flatten คือ 2D arrat -> 1D array\n",
        "                                    tf.keras.layers.Dense(128, activation= tf.nn.relu),                   #layer of neurons (hidden layers)  128 สุ่มมา  ถ้ามากไป ก็จะช้า\n",
        "                                    tf.keras.layers.Dense(10, activation=tf.nn.softmax)                   #output layers 0 -9 \n",
        "])"
      ],
      "execution_count": 7,
      "outputs": []
    },
    {
      "cell_type": "code",
      "metadata": {
        "colab": {
          "base_uri": "https://localhost:8080/"
        },
        "collapsed": true,
        "id": "_ukUs0s1MjkI",
        "outputId": "8e9b5829-807e-4a9b-db2a-d64f87c79289"
      },
      "source": [
        "#@title\n",
        "model.summary()"
      ],
      "execution_count": 9,
      "outputs": [
        {
          "output_type": "stream",
          "text": [
            "Model: \"sequential\"\n",
            "_________________________________________________________________\n",
            "Layer (type)                 Output Shape              Param #   \n",
            "=================================================================\n",
            "flatten (Flatten)            (None, 784)               0         \n",
            "_________________________________________________________________\n",
            "dense (Dense)                (None, 128)               100480    \n",
            "_________________________________________________________________\n",
            "dense_1 (Dense)              (None, 10)                1290      \n",
            "=================================================================\n",
            "Total params: 101,770\n",
            "Trainable params: 101,770\n",
            "Non-trainable params: 0\n",
            "_________________________________________________________________\n"
          ],
          "name": "stdout"
        }
      ]
    },
    {
      "cell_type": "code",
      "metadata": {
        "id": "YEZSyXNWKm2u"
      },
      "source": [
        "model.compile(optimizer='adam',\n",
        "              loss='sparse_categorical_crossentropy',\n",
        "              metrics=['accuracy'])\n"
      ],
      "execution_count": 10,
      "outputs": []
    },
    {
      "cell_type": "code",
      "metadata": {
        "colab": {
          "base_uri": "https://localhost:8080/"
        },
        "id": "U4x2yH62LQRt",
        "outputId": "dac54dc2-9206-44d8-e995-dceb800e8a08"
      },
      "source": [
        "model.fit(training_images,training_labels, epochs=5 )"
      ],
      "execution_count": 11,
      "outputs": [
        {
          "output_type": "stream",
          "text": [
            "Epoch 1/5\n",
            "1875/1875 [==============================] - 6s 2ms/step - loss: 0.4972 - accuracy: 0.8243\n",
            "Epoch 2/5\n",
            "1875/1875 [==============================] - 3s 2ms/step - loss: 0.3767 - accuracy: 0.8651\n",
            "Epoch 3/5\n",
            "1875/1875 [==============================] - 3s 2ms/step - loss: 0.3350 - accuracy: 0.8777\n",
            "Epoch 4/5\n",
            "1875/1875 [==============================] - 3s 2ms/step - loss: 0.3138 - accuracy: 0.8850\n",
            "Epoch 5/5\n",
            "1875/1875 [==============================] - 3s 2ms/step - loss: 0.2935 - accuracy: 0.8932\n"
          ],
          "name": "stdout"
        },
        {
          "output_type": "execute_result",
          "data": {
            "text/plain": [
              "<tensorflow.python.keras.callbacks.History at 0x7f65a1f5a450>"
            ]
          },
          "metadata": {
            "tags": []
          },
          "execution_count": 11
        }
      ]
    },
    {
      "cell_type": "code",
      "metadata": {
        "colab": {
          "base_uri": "https://localhost:8080/"
        },
        "id": "owFtzUL7O3ru",
        "outputId": "1e3007df-61b7-4c8b-9569-6df5dc180f41"
      },
      "source": [
        "model.evaluate(test_images, test_labels)"
      ],
      "execution_count": 12,
      "outputs": [
        {
          "output_type": "stream",
          "text": [
            "313/313 [==============================] - 1s 2ms/step - loss: 0.3532 - accuracy: 0.8728\n"
          ],
          "name": "stdout"
        },
        {
          "output_type": "execute_result",
          "data": {
            "text/plain": [
              "[0.35318171977996826, 0.8727999925613403]"
            ]
          },
          "metadata": {
            "tags": []
          },
          "execution_count": 12
        }
      ]
    },
    {
      "cell_type": "markdown",
      "metadata": {
        "id": "W73q7vlBQPge"
      },
      "source": [
        "##สำรวจผลลัพธ์ของโมเดล\n"
      ]
    },
    {
      "cell_type": "code",
      "metadata": {
        "colab": {
          "base_uri": "https://localhost:8080/"
        },
        "id": "RbERD6t2QXEF",
        "outputId": "e3188eb6-b33f-4435-9e54-186d77169891"
      },
      "source": [
        "##สำรวจผลลัพธ์ของโมเดล\n",
        "classifications = model.predict(test_images)\n",
        "print(classifications[0])\n",
        "print(test_labels[0])"
      ],
      "execution_count": 13,
      "outputs": [
        {
          "output_type": "stream",
          "text": [
            "[1.12797534e-05 1.75561880e-07 4.23220172e-07 5.14570395e-08\n",
            " 2.51488473e-07 3.61318514e-02 3.32163495e-06 1.01050556e-01\n",
            " 4.27696395e-05 8.62759292e-01]\n",
            "9\n"
          ],
          "name": "stdout"
        }
      ]
    },
    {
      "cell_type": "markdown",
      "metadata": {
        "id": "n9uggWkyRFne"
      },
      "source": [
        "## เทรนให้นานขึ้น - จะเจอ overfitting\n"
      ]
    },
    {
      "cell_type": "code",
      "metadata": {
        "colab": {
          "base_uri": "https://localhost:8080/"
        },
        "id": "ZIf9UpC9QzoE",
        "outputId": "8412e249-a38a-44a5-b3b8-86edb5253631"
      },
      "source": [
        "model.fit(training_images,training_labels, epochs=50 )"
      ],
      "execution_count": 15,
      "outputs": [
        {
          "output_type": "stream",
          "text": [
            "Epoch 1/50\n",
            "1875/1875 [==============================] - 4s 2ms/step - loss: 0.2809 - accuracy: 0.8968\n",
            "Epoch 2/50\n",
            "1875/1875 [==============================] - 4s 2ms/step - loss: 0.2684 - accuracy: 0.9005\n",
            "Epoch 3/50\n",
            "1875/1875 [==============================] - 4s 2ms/step - loss: 0.2581 - accuracy: 0.9040\n",
            "Epoch 4/50\n",
            "1875/1875 [==============================] - 3s 2ms/step - loss: 0.2478 - accuracy: 0.9069\n",
            "Epoch 5/50\n",
            "1875/1875 [==============================] - 3s 2ms/step - loss: 0.2375 - accuracy: 0.9110\n",
            "Epoch 6/50\n",
            "1875/1875 [==============================] - 4s 2ms/step - loss: 0.2303 - accuracy: 0.9139\n",
            "Epoch 7/50\n",
            "1875/1875 [==============================] - 4s 2ms/step - loss: 0.2240 - accuracy: 0.9163\n",
            "Epoch 8/50\n",
            "1875/1875 [==============================] - 4s 2ms/step - loss: 0.2170 - accuracy: 0.9186\n",
            "Epoch 9/50\n",
            "1875/1875 [==============================] - 4s 2ms/step - loss: 0.2101 - accuracy: 0.9210\n",
            "Epoch 10/50\n",
            "1875/1875 [==============================] - 4s 2ms/step - loss: 0.2030 - accuracy: 0.9237\n",
            "Epoch 11/50\n",
            "1875/1875 [==============================] - 4s 2ms/step - loss: 0.1989 - accuracy: 0.9240\n",
            "Epoch 12/50\n",
            "1875/1875 [==============================] - 4s 2ms/step - loss: 0.1938 - accuracy: 0.9260\n",
            "Epoch 13/50\n",
            "1875/1875 [==============================] - 4s 2ms/step - loss: 0.1882 - accuracy: 0.9296\n",
            "Epoch 14/50\n",
            "1875/1875 [==============================] - 3s 2ms/step - loss: 0.1826 - accuracy: 0.9308\n",
            "Epoch 15/50\n",
            "1875/1875 [==============================] - 3s 2ms/step - loss: 0.1786 - accuracy: 0.9342\n",
            "Epoch 16/50\n",
            "1875/1875 [==============================] - 3s 2ms/step - loss: 0.1741 - accuracy: 0.9350\n",
            "Epoch 17/50\n",
            "1875/1875 [==============================] - 3s 2ms/step - loss: 0.1731 - accuracy: 0.9341\n",
            "Epoch 18/50\n",
            "1875/1875 [==============================] - 3s 2ms/step - loss: 0.1644 - accuracy: 0.9379\n",
            "Epoch 19/50\n",
            "1875/1875 [==============================] - 3s 2ms/step - loss: 0.1635 - accuracy: 0.9387\n",
            "Epoch 20/50\n",
            "1875/1875 [==============================] - 3s 2ms/step - loss: 0.1570 - accuracy: 0.9411\n",
            "Epoch 21/50\n",
            "1875/1875 [==============================] - 3s 2ms/step - loss: 0.1559 - accuracy: 0.9418\n",
            "Epoch 22/50\n",
            "1875/1875 [==============================] - 3s 2ms/step - loss: 0.1526 - accuracy: 0.9427\n",
            "Epoch 23/50\n",
            "1875/1875 [==============================] - 3s 2ms/step - loss: 0.1470 - accuracy: 0.9439\n",
            "Epoch 24/50\n",
            "1875/1875 [==============================] - 3s 2ms/step - loss: 0.1454 - accuracy: 0.9454\n",
            "Epoch 25/50\n",
            "1875/1875 [==============================] - 4s 2ms/step - loss: 0.1423 - accuracy: 0.9470\n",
            "Epoch 26/50\n",
            "1875/1875 [==============================] - 4s 2ms/step - loss: 0.1399 - accuracy: 0.9478\n",
            "Epoch 27/50\n",
            "1875/1875 [==============================] - 4s 2ms/step - loss: 0.1333 - accuracy: 0.9498\n",
            "Epoch 28/50\n",
            "1875/1875 [==============================] - 4s 2ms/step - loss: 0.1333 - accuracy: 0.9489\n",
            "Epoch 29/50\n",
            "1875/1875 [==============================] - 4s 2ms/step - loss: 0.1316 - accuracy: 0.9501\n",
            "Epoch 30/50\n",
            "1875/1875 [==============================] - 4s 2ms/step - loss: 0.1275 - accuracy: 0.9514\n",
            "Epoch 31/50\n",
            "1875/1875 [==============================] - 4s 2ms/step - loss: 0.1254 - accuracy: 0.9524\n",
            "Epoch 32/50\n",
            "1875/1875 [==============================] - 3s 2ms/step - loss: 0.1234 - accuracy: 0.9539\n",
            "Epoch 33/50\n",
            "1875/1875 [==============================] - 3s 2ms/step - loss: 0.1207 - accuracy: 0.9544\n",
            "Epoch 34/50\n",
            "1875/1875 [==============================] - 3s 2ms/step - loss: 0.1198 - accuracy: 0.9554\n",
            "Epoch 35/50\n",
            "1875/1875 [==============================] - 3s 2ms/step - loss: 0.1159 - accuracy: 0.9566\n",
            "Epoch 36/50\n",
            "1875/1875 [==============================] - 3s 2ms/step - loss: 0.1129 - accuracy: 0.9574\n",
            "Epoch 37/50\n",
            "1875/1875 [==============================] - 3s 2ms/step - loss: 0.1139 - accuracy: 0.9571\n",
            "Epoch 38/50\n",
            "1875/1875 [==============================] - 3s 2ms/step - loss: 0.1115 - accuracy: 0.9588\n",
            "Epoch 39/50\n",
            "1875/1875 [==============================] - 3s 2ms/step - loss: 0.1086 - accuracy: 0.9589\n",
            "Epoch 40/50\n",
            "1875/1875 [==============================] - 3s 2ms/step - loss: 0.1092 - accuracy: 0.9592\n",
            "Epoch 41/50\n",
            "1875/1875 [==============================] - 3s 2ms/step - loss: 0.1043 - accuracy: 0.9601\n",
            "Epoch 42/50\n",
            "1875/1875 [==============================] - 3s 2ms/step - loss: 0.1036 - accuracy: 0.9617\n",
            "Epoch 43/50\n",
            "1875/1875 [==============================] - 3s 2ms/step - loss: 0.1009 - accuracy: 0.9623\n",
            "Epoch 44/50\n",
            "1875/1875 [==============================] - 4s 2ms/step - loss: 0.1019 - accuracy: 0.9617\n",
            "Epoch 45/50\n",
            "1875/1875 [==============================] - 4s 2ms/step - loss: 0.0972 - accuracy: 0.9630\n",
            "Epoch 46/50\n",
            "1875/1875 [==============================] - 4s 2ms/step - loss: 0.0982 - accuracy: 0.9632\n",
            "Epoch 47/50\n",
            "1875/1875 [==============================] - 4s 2ms/step - loss: 0.0943 - accuracy: 0.9649\n",
            "Epoch 48/50\n",
            "1875/1875 [==============================] - 4s 2ms/step - loss: 0.0934 - accuracy: 0.9649\n",
            "Epoch 49/50\n",
            "1875/1875 [==============================] - 4s 2ms/step - loss: 0.0953 - accuracy: 0.9644\n",
            "Epoch 50/50\n",
            "1875/1875 [==============================] - 4s 2ms/step - loss: 0.0903 - accuracy: 0.9663\n"
          ],
          "name": "stdout"
        },
        {
          "output_type": "execute_result",
          "data": {
            "text/plain": [
              "<tensorflow.python.keras.callbacks.History at 0x7f65900be090>"
            ]
          },
          "metadata": {
            "tags": []
          },
          "execution_count": 15
        }
      ]
    },
    {
      "cell_type": "code",
      "metadata": {
        "colab": {
          "base_uri": "https://localhost:8080/"
        },
        "id": "zFsR5suUSJeR",
        "outputId": "22ab11c4-af46-4164-930b-963c8c3af805"
      },
      "source": [
        "model.evaluate(test_images, test_labels)"
      ],
      "execution_count": 16,
      "outputs": [
        {
          "output_type": "stream",
          "text": [
            "313/313 [==============================] - 1s 2ms/step - loss: 0.5189 - accuracy: 0.8902\n"
          ],
          "name": "stdout"
        },
        {
          "output_type": "execute_result",
          "data": {
            "text/plain": [
              "[0.518855094909668, 0.8902000188827515]"
            ]
          },
          "metadata": {
            "tags": []
          },
          "execution_count": 16
        }
      ]
    },
    {
      "cell_type": "markdown",
      "metadata": {
        "id": "DWT4Jf-mSUjv"
      },
      "source": [
        "## Stopping Training\n",
        "\n",
        "การเทรนหลายครั้ง อาจทำให้โมเดล เกิด Overfitting\n",
        "\n",
        "เราจะกำหนดว่าถ้าค่าแม่นยำ 95% ก็พอให้หยุดได้เเล้ว\n",
        "\n",
        "ทำง่ายด้วย callback"
      ]
    },
    {
      "cell_type": "code",
      "metadata": {
        "id": "zbuQ3NiyTgKg"
      },
      "source": [
        "import tensorflow as tf"
      ],
      "execution_count": 17,
      "outputs": []
    },
    {
      "cell_type": "code",
      "metadata": {
        "id": "0U2L0GJ7SzhX"
      },
      "source": [
        "class myCallback(tf.keras.callbacks.Callback):\n",
        "  def on_epoch_end(self, epoch, logs={}):\n",
        "    if(logs.get('accuracy')>0.90):\n",
        "      print(\"\\nReached 95% accuracy so cancelling trainning\")\n",
        "      self.model.stop_training = True"
      ],
      "execution_count": 27,
      "outputs": []
    },
    {
      "cell_type": "code",
      "metadata": {
        "id": "MOHmfai_TlWY"
      },
      "source": [
        "callbacks = myCallback()\n",
        "mnist = tf.keras.datasets.fashion_mnist"
      ],
      "execution_count": 28,
      "outputs": []
    },
    {
      "cell_type": "code",
      "metadata": {
        "id": "l2nAoS_4TuRD"
      },
      "source": [
        "(training_images, training_labels),(test_images, test_labels) = mnist.load_data()"
      ],
      "execution_count": 29,
      "outputs": []
    },
    {
      "cell_type": "code",
      "metadata": {
        "id": "xWpU42EoTzfZ"
      },
      "source": [
        "training_images=training_images/255.0\n",
        "test_images=test_images/255.0"
      ],
      "execution_count": 30,
      "outputs": []
    },
    {
      "cell_type": "code",
      "metadata": {
        "id": "PYkE_KLLT0wA"
      },
      "source": [
        "model = tf.keras.models.Sequential([\n",
        "                                    tf.keras.layers.Flatten(),\n",
        "                                    tf.keras.layers.Dense(128, activation=tf.nn.relu),\n",
        "                                    tf.keras.layers.Dense(10, activation=tf.nn.softmax)\n",
        "])"
      ],
      "execution_count": 31,
      "outputs": []
    },
    {
      "cell_type": "code",
      "metadata": {
        "id": "r1P6m7oHT09O"
      },
      "source": [
        "model.compile(optimizer='adam',\n",
        "              loss='sparse_categorical_crossentropy',\n",
        "              metrics=['accuracy'])"
      ],
      "execution_count": 32,
      "outputs": []
    },
    {
      "cell_type": "code",
      "metadata": {
        "colab": {
          "base_uri": "https://localhost:8080/"
        },
        "id": "LQNlWYo9T1AC",
        "outputId": "0240b4cf-9699-4840-c5df-31562cd4d192"
      },
      "source": [
        "model.fit(training_images,training_labels, epochs=50, callbacks=[callbacks] )"
      ],
      "execution_count": 33,
      "outputs": [
        {
          "output_type": "stream",
          "text": [
            "Epoch 1/50\n",
            "1875/1875 [==============================] - 4s 2ms/step - loss: 0.4960 - accuracy: 0.8267\n",
            "Epoch 2/50\n",
            "1875/1875 [==============================] - 3s 2ms/step - loss: 0.3724 - accuracy: 0.8660\n",
            "Epoch 3/50\n",
            "1875/1875 [==============================] - 3s 2ms/step - loss: 0.3343 - accuracy: 0.8783\n",
            "Epoch 4/50\n",
            "1875/1875 [==============================] - 3s 2ms/step - loss: 0.3121 - accuracy: 0.8850\n",
            "\n",
            "Reached 95% accuracy so cancelling trainning\n"
          ],
          "name": "stdout"
        },
        {
          "output_type": "execute_result",
          "data": {
            "text/plain": [
              "<tensorflow.python.keras.callbacks.History at 0x7f652cf14fd0>"
            ]
          },
          "metadata": {
            "tags": []
          },
          "execution_count": 33
        }
      ]
    },
    {
      "cell_type": "code",
      "metadata": {
        "colab": {
          "base_uri": "https://localhost:8080/"
        },
        "id": "C76-Am0XT1C7",
        "outputId": "4f135052-efb3-4176-f969-5ca588e11636"
      },
      "source": [
        "model.evaluate(test_images, test_labels)"
      ],
      "execution_count": 34,
      "outputs": [
        {
          "output_type": "stream",
          "text": [
            "313/313 [==============================] - 1s 2ms/step - loss: 0.3593 - accuracy: 0.8704\n"
          ],
          "name": "stdout"
        },
        {
          "output_type": "execute_result",
          "data": {
            "text/plain": [
              "[0.35930246114730835, 0.8704000115394592]"
            ]
          },
          "metadata": {
            "tags": []
          },
          "execution_count": 34
        }
      ]
    },
    {
      "cell_type": "code",
      "metadata": {
        "id": "8fPYKe1kT1FI"
      },
      "source": [
        ""
      ],
      "execution_count": null,
      "outputs": []
    },
    {
      "cell_type": "code",
      "metadata": {
        "id": "PuQZpUgMT1Hx"
      },
      "source": [
        ""
      ],
      "execution_count": null,
      "outputs": []
    },
    {
      "cell_type": "code",
      "metadata": {
        "id": "YgUjv3naT1KO"
      },
      "source": [
        ""
      ],
      "execution_count": null,
      "outputs": []
    },
    {
      "cell_type": "code",
      "metadata": {
        "id": "Ewkgwa3yT1M0"
      },
      "source": [
        ""
      ],
      "execution_count": null,
      "outputs": []
    },
    {
      "cell_type": "code",
      "metadata": {
        "id": "6P8cHM5KT1Pd"
      },
      "source": [
        ""
      ],
      "execution_count": null,
      "outputs": []
    },
    {
      "cell_type": "code",
      "metadata": {
        "id": "OaeW97nZT1TT"
      },
      "source": [
        ""
      ],
      "execution_count": null,
      "outputs": []
    },
    {
      "cell_type": "code",
      "metadata": {
        "id": "LcIdmaGDT1WL"
      },
      "source": [
        "#เสริม"
      ],
      "execution_count": null,
      "outputs": []
    },
    {
      "cell_type": "code",
      "metadata": {
        "colab": {
          "base_uri": "https://localhost:8080/"
        },
        "id": "1cr9AUAiEw3T",
        "outputId": "fce845f3-6bd8-4531-b855-d7c24a9e55cb"
      },
      "source": [
        "print('Fashion MNIST Dataset shape :')\n",
        "print(\"training_images: {}\".format(training_images.shape))\n",
        "print(\"training_labels: {}\".format(training_labels.shape))\n",
        "print(\"test_images: {}\".format(test_images.shape))\n",
        "print(\"test_labels: {}\".format(test_labels.shape))"
      ],
      "execution_count": 10,
      "outputs": [
        {
          "output_type": "stream",
          "text": [
            "Fashion MNIST Dataset shape :\n",
            "training_images: (60000, 28, 28)\n",
            "training_labels: (60000,)\n",
            "test_images: (10000, 28, 28)\n",
            "test_labels: (10000,)\n"
          ],
          "name": "stdout"
        }
      ]
    },
    {
      "cell_type": "markdown",
      "metadata": {
        "id": "kt5p7peCiYRK"
      },
      "source": [
        "ส่วน Y เทียบ 0 -9 เป็นชนิดของเครื่องนุ่งห่ม ดังนี้\n",
        "\n",
        "<img src=\"https://miro.medium.com/proxy/1*9ixX1F4l8lWH2Dwlk6NYKw.png\">"
      ]
    },
    {
      "cell_type": "code",
      "metadata": {
        "colab": {
          "base_uri": "https://localhost:8080/",
          "height": 265
        },
        "id": "jHj7rz0tg8LR",
        "outputId": "83e5a58a-b57d-46ce-a850-ddeb9032f86b"
      },
      "source": [
        "# ลอง plot ดู\n",
        "import matplotlib.pyplot as plt\n",
        "%matplotlib inline\n",
        "\n",
        "# Sample n to plot\n",
        "sample = 999\n",
        "image = training_image[sample]\n",
        "\n",
        "# plot the sample\n",
        "fig = plt.figure\n",
        "plt.imshow(image, cmap='gray')\n",
        "plt.show()"
      ],
      "execution_count": null,
      "outputs": [
        {
          "output_type": "display_data",
          "data": {
            "image/png": "[encoded data removed]",
            "text/plain": [
              "<Figure size 432x288 with 1 Axes>"
            ]
          },
          "metadata": {
            "tags": [],
            "needs_background": "light"
          }
        }
      ]
    },
    {
      "cell_type": "code",
      "metadata": {
        "colab": {
          "base_uri": "https://localhost:8080/",
          "height": 420
        },
        "id": "0fvOR9eCFBCy",
        "outputId": "03604a25-37a5-4204-ddc0-aced1ce98720"
      },
      "source": [
        "# multiple images plot\n",
        "num_row = 3\n",
        "num_col = 5\n",
        "\n",
        "# get a segment of the dataset\n",
        "num = num_row * num_col\n",
        "images = training_images[:num]\n",
        "labels = training_labels[:num]\n",
        "\n",
        "# plot images\n",
        "fig, axes = plt.subplots(num_row, num_col, figsize=(1.5*num_col, 2 * num_row))\n",
        "\n",
        "for i in range(num_row * num_col):\n",
        "  ax = axes[i//num_col, i%num_col]\n",
        "  ax.imshow(images[i], cmap='gray')\n",
        "  ax.set_title('Label: {}'.format(labels[i]))\n",
        "plt.tight_layout()\n",
        "plt.show()"
      ],
      "execution_count": null,
      "outputs": [
        {
          "output_type": "display_data",
          "data": {
            "image/png": "[encoded data removed]",
            "text/plain": [
              "<Figure size 540x432 with 15 Axes>"
            ]
          },
          "metadata": {
            "tags": [],
            "needs_background": "light"
          }
        }
      ]
    },
    {
      "cell_type": "code",
      "metadata": {
        "id": "4ASrIQC5FlmK"
      },
      "source": [
        "# image 0 - 255\n",
        "# label 0 - 9\n",
        "\n",
        "# Normalize 0 - 1.\n",
        "training_image = training_image/255\n",
        "test_images = test_images / 255\n"
      ],
      "execution_count": null,
      "outputs": []
    },
    {
      "cell_type": "code",
      "metadata": {
        "id": "hTyB7hHWGcXK"
      },
      "source": [
        "model = tf.keras.models.Sequential([\n",
        "                                    tf.keras.layers.Flatten(input_shape=(28,28)),                        #นี่คือ input layer , Flatten คือ 2D arrat -> 1D array\n",
        "                                    tf.keras.layers.Dense(500, activation= tf.nn.relu),                   #layer of neurons (hidden layers)  128 สุ่มมา  ถ้ามากไป ก็จะช้า\n",
        "                                    tf.keras.layers.Dense(10, activation=tf.nn.softmax)                   #output layers \n",
        "])\n"
      ],
      "execution_count": null,
      "outputs": []
    },
    {
      "cell_type": "code",
      "metadata": {
        "id": "79cyd95UGl_U"
      },
      "source": [
        "model.compile(optimizer='adam',\n",
        "              loss='sparse_categorical_crossentropy',\n",
        "              metrics=['accuracy'])"
      ],
      "execution_count": null,
      "outputs": []
    },
    {
      "cell_type": "code",
      "metadata": {
        "colab": {
          "base_uri": "https://localhost:8080/"
        },
        "id": "_qHoIhvdHsuD",
        "outputId": "5084e2cb-3fb9-45d9-d759-c0bcec289a6f"
      },
      "source": [
        "model.fit(training_image,training_labels, epochs=5)"
      ],
      "execution_count": null,
      "outputs": [
        {
          "output_type": "stream",
          "text": [
            "Epoch 1/5\n",
            "1875/1875 [==============================] - 8s 4ms/step - loss: 0.8653 - accuracy: 0.7157\n",
            "Epoch 2/5\n",
            "1875/1875 [==============================] - 8s 4ms/step - loss: 0.5448 - accuracy: 0.8046\n",
            "Epoch 3/5\n",
            "1875/1875 [==============================] - 8s 4ms/step - loss: 0.4859 - accuracy: 0.8281\n",
            "Epoch 4/5\n",
            "1875/1875 [==============================] - 8s 4ms/step - loss: 0.4549 - accuracy: 0.8392\n",
            "Epoch 5/5\n",
            "1875/1875 [==============================] - 7s 4ms/step - loss: 0.4338 - accuracy: 0.8467\n"
          ],
          "name": "stdout"
        },
        {
          "output_type": "execute_result",
          "data": {
            "text/plain": [
              "<tensorflow.python.keras.callbacks.History at 0x7f2e967f5750>"
            ]
          },
          "metadata": {
            "tags": []
          },
          "execution_count": 33
        }
      ]
    },
    {
      "cell_type": "code",
      "metadata": {
        "id": "3SbYhVpkH4sS"
      },
      "source": [
        "classifications = model.predict(test_images)"
      ],
      "execution_count": null,
      "outputs": []
    },
    {
      "cell_type": "code",
      "metadata": {
        "colab": {
          "base_uri": "https://localhost:8080/"
        },
        "id": "z1vSlrJ9IPjq",
        "outputId": "5adb121a-c7d6-4a9c-cc05-c880f71101ae"
      },
      "source": [
        "print(classifications[999])"
      ],
      "execution_count": null,
      "outputs": [
        {
          "output_type": "stream",
          "text": [
            "[5.4222750e-07 4.8768882e-08 1.3488783e-07 4.8444583e-08 4.1321933e-08\n",
            " 5.7756159e-05 2.0688373e-07 9.9992430e-01 9.7815227e-06 7.1113172e-06]\n"
          ],
          "name": "stdout"
        }
      ]
    },
    {
      "cell_type": "code",
      "metadata": {
        "colab": {
          "base_uri": "https://localhost:8080/"
        },
        "id": "bww0VHAJITtC",
        "outputId": "36d5376b-41a3-4f7e-8d79-ffe9356a7f59"
      },
      "source": [
        "print(test_labels[999])"
      ],
      "execution_count": null,
      "outputs": [
        {
          "output_type": "stream",
          "text": [
            "7\n"
          ],
          "name": "stdout"
        }
      ]
    },
    {
      "cell_type": "code",
      "metadata": {
        "id": "9x9AygXeIZNS"
      },
      "source": [
        ""
      ],
      "execution_count": null,
      "outputs": []
    }
  ]
}