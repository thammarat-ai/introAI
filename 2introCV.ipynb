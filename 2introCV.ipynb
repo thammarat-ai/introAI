{
  "nbformat": 4,
  "nbformat_minor": 0,
  "metadata": {
    "colab": {
      "name": "2introCV.ipynb",
      "provenance": [],
      "collapsed_sections": [],
      "authorship_tag": "ABX9TyMRv/aVxUw9dn/+M7ZELE6O",
      "include_colab_link": true
    },
    "kernelspec": {
      "name": "python3",
      "display_name": "Python 3"
    },
    "language_info": {
      "name": "python"
    }
  },
  "cells": [
    {
      "cell_type": "markdown",
      "metadata": {
        "id": "view-in-github",
        "colab_type": "text"
      },
      "source": [
        "<a href=\"https://colab.research.google.com/github/thammarat-ai/introAI/blob/main/2introCV.ipynb\" target=\"_parent\"><img src=\"https://colab.research.google.com/assets/colab-badge.svg\" alt=\"Open In Colab\"/></a>"
      ]
    },
    {
      "cell_type": "markdown",
      "metadata": {
        "id": "XR0dpHWV-IN1"
      },
      "source": [
        "ตัวอย่างเครื่องแต่งกายที่จะจดจำ\n",
        "\n",
        "<img src=\"https://www.oreilly.com/library/view/ai-and-machine/9781492078180/assets/aiml_0201.png\">\n",
        "\n",
        "ลองคิดนะ ว่าเราจะบอกอธิบาย เสื้อผ้า ให้คนที่ไม่เห็น รู้ได้อย่างไร\n",
        "\n",
        "rules-based programming ก็จะซับซ้อนมากๆ \n",
        "\n",
        "ไฟล์นี้จะมาเบื้องต้นของ Computer Vision (CV)\n",
        "จะสอนให้คอมรู้จำเสื้อผ้า \n",
        "\n",
        "จะใช้ dataset ชื่อ Fashion MNIST\n",
        "\n",
        "\n"
      ]
    },
    {
      "cell_type": "markdown",
      "metadata": {
        "id": "CBcqmrK1_ZMG"
      },
      "source": [
        "##The Data: Fashion MNIST\n",
        "\n",
        "dataset สำหรับเรียนรู้ซ้อมมือหรือเปรียบเทียบประสิทธิภาพอัลกอริทึม คือ\n",
        "Modified National Institute of Standards and Technology (MNIST) database\n",
        "ประกอบด้วยภาพตัวเลขลายมือ 70,000 ของเลข 0 - 9 \n",
        "เป็นภาพขาวดำ 28 x 28\n",
        "\n",
        "ส่วน Fashion MNIST ออกแบบเพื่อแทน MNIST ด้วยจำนวนแทนกัน แล้วตัวเลข 0 - 9 เหมือนกัน แต่จะแทนด้วยเสื้อผ้าที่แตกต่างกัน 10 ชนิด\n",
        "\n",
        "<img src=\"https://www.oreilly.com/library/view/ai-and-machine/9781492078180/assets/aiml_0202.png\">\n",
        "\n"
      ]
    },
    {
      "cell_type": "markdown",
      "metadata": {
        "id": "5Pg6PZmqAfKD"
      },
      "source": [
        "ลองดูใกล้ๆ เข้าไป\n",
        "\n",
        "<img src=\"https://www.oreilly.com/library/view/ai-and-machine/9781492078180/assets/aiml_0203.png\">\n",
        "\n",
        "\n",
        "\n",
        "\n",
        "\n",
        "\n",
        "\n"
      ]
    },
    {
      "cell_type": "markdown",
      "metadata": {
        "id": "lBFVKU9EAqIE"
      },
      "source": [
        "## เซลล์ประสาทเพื่อการมองเห็น\n",
        "\n",
        "แต่ละรูปเป็นเซ็ตของ 784 ค่า (28 x 28) ค่าระหว่าง 0 -255 ค่าความเข้มของสี นี่คือ X ของเรา\n",
        "\n",
        "ส่วน Y คือ 10 ชนิดภาพที่แตกต่างกัน \n",
        "\n",
        "เราต้องสอนให้เครื่องสอน X เพื่อหาค่า Y\n",
        "\n",
        "\n",
        "แบบตัวอย่างแรก\n",
        "<img src=\"https://www.oreilly.com/library/view/ai-and-machine/9781492078180/assets/aiml_0204.png\">\n",
        "\n",
        "\n",
        "\n",
        "\n",
        "แต่ตัวอย่างนี้คือ\n",
        "\n",
        "<img src=\"https://www.oreilly.com/library/view/ai-and-machine/9781492078180/assets/aiml_0205.png\">"
      ]
    },
    {
      "cell_type": "code",
      "metadata": {
        "id": "dPIBsOQ7AZmd"
      },
      "source": [
        "import tensorflow as tf"
      ],
      "execution_count": 2,
      "outputs": []
    },
    {
      "cell_type": "code",
      "metadata": {
        "id": "uDn0PNEJuDUn"
      },
      "source": [
        "data = tf.keras.datasets.fashion_mnist"
      ],
      "execution_count": 3,
      "outputs": []
    },
    {
      "cell_type": "code",
      "metadata": {
        "colab": {
          "base_uri": "https://localhost:8080/"
        },
        "id": "jHujRKWbAlxb",
        "outputId": "2584637c-4319-436b-a9ff-183a5e12752a"
      },
      "source": [
        "(training_image, training_labels),(test_images, test_labels) = data.load_data()"
      ],
      "execution_count": 4,
      "outputs": [
        {
          "output_type": "stream",
          "text": [
            "Downloading data from https://storage.googleapis.com/tensorflow/tf-keras-datasets/train-labels-idx1-ubyte.gz\n",
            "32768/29515 [=================================] - 0s 0us/step\n",
            "Downloading data from https://storage.googleapis.com/tensorflow/tf-keras-datasets/train-images-idx3-ubyte.gz\n",
            "26427392/26421880 [==============================] - 0s 0us/step\n",
            "Downloading data from https://storage.googleapis.com/tensorflow/tf-keras-datasets/t10k-labels-idx1-ubyte.gz\n",
            "8192/5148 [===============================================] - 0s 0us/step\n",
            "Downloading data from https://storage.googleapis.com/tensorflow/tf-keras-datasets/t10k-images-idx3-ubyte.gz\n",
            "4423680/4422102 [==============================] - 0s 0us/step\n"
          ],
          "name": "stdout"
        }
      ]
    },
    {
      "cell_type": "code",
      "metadata": {
        "colab": {
          "base_uri": "https://localhost:8080/"
        },
        "id": "1cr9AUAiEw3T",
        "outputId": "a63fa7a2-5a87-4ef3-ba97-8eb5935b88e2"
      },
      "source": [
        "training_image.min()\n"
      ],
      "execution_count": 16,
      "outputs": [
        {
          "output_type": "execute_result",
          "data": {
            "text/plain": [
              "0"
            ]
          },
          "metadata": {
            "tags": []
          },
          "execution_count": 16
        }
      ]
    },
    {
      "cell_type": "code",
      "metadata": {
        "colab": {
          "base_uri": "https://localhost:8080/"
        },
        "id": "0fvOR9eCFBCy",
        "outputId": "74fdf1ae-d53b-4e46-d98b-dd873eb1e71b"
      },
      "source": [
        "test_images.shape"
      ],
      "execution_count": 11,
      "outputs": [
        {
          "output_type": "execute_result",
          "data": {
            "text/plain": [
              "(10000, 28, 28)"
            ]
          },
          "metadata": {
            "tags": []
          },
          "execution_count": 11
        }
      ]
    },
    {
      "cell_type": "code",
      "metadata": {
        "colab": {
          "base_uri": "https://localhost:8080/"
        },
        "id": "xPG4e8UoFefa",
        "outputId": "994fb9cb-d3ef-4447-b8a7-d7100b9c76bd"
      },
      "source": [
        "training_labels.max()\n"
      ],
      "execution_count": 17,
      "outputs": [
        {
          "output_type": "execute_result",
          "data": {
            "text/plain": [
              "9"
            ]
          },
          "metadata": {
            "tags": []
          },
          "execution_count": 17
        }
      ]
    },
    {
      "cell_type": "code",
      "metadata": {
        "id": "4ASrIQC5FlmK"
      },
      "source": [
        "# image 0 - 255\n",
        "# label 0 - 9\n",
        "\n",
        "# Normalize 0 - 1.\n",
        "training_image = training_image/255\n",
        "test_images = test_images / 255\n"
      ],
      "execution_count": 20,
      "outputs": []
    },
    {
      "cell_type": "code",
      "metadata": {
        "id": "hTyB7hHWGcXK"
      },
      "source": [
        "model = tf.keras.models.Sequential([\n",
        "                                    tf.keras.layers.Flatten(input_shape=(28,28)),\n",
        "                                    tf.keras.layers.Dense(128, activation= tf.nn.relu),\n",
        "                                    tf.keras.layers.Dense(10, activation=tf.nn.softmax)\n",
        "])\n"
      ],
      "execution_count": 23,
      "outputs": []
    },
    {
      "cell_type": "code",
      "metadata": {
        "id": "79cyd95UGl_U"
      },
      "source": [
        "model.compile(optimizer='adam',\n",
        "              loss='sparse_categorical_crossentropy',\n",
        "              metrics=['accuracy'])"
      ],
      "execution_count": 24,
      "outputs": []
    },
    {
      "cell_type": "code",
      "metadata": {
        "colab": {
          "base_uri": "https://localhost:8080/"
        },
        "id": "_qHoIhvdHsuD",
        "outputId": "01029423-528e-4871-9e71-1391b5f6f9cb"
      },
      "source": [
        "model.fit(training_image,training_labels, epochs=5)"
      ],
      "execution_count": 25,
      "outputs": [
        {
          "output_type": "stream",
          "text": [
            "Epoch 1/5\n",
            "1875/1875 [==============================] - 5s 2ms/step - loss: 1.0935 - accuracy: 0.6530\n",
            "Epoch 2/5\n",
            "1875/1875 [==============================] - 4s 2ms/step - loss: 0.6406 - accuracy: 0.7692\n",
            "Epoch 3/5\n",
            "1875/1875 [==============================] - 4s 2ms/step - loss: 0.5660 - accuracy: 0.7973\n",
            "Epoch 4/5\n",
            "1875/1875 [==============================] - 4s 2ms/step - loss: 0.5245 - accuracy: 0.8142\n",
            "Epoch 5/5\n",
            "1875/1875 [==============================] - 4s 2ms/step - loss: 0.4968 - accuracy: 0.8249\n"
          ],
          "name": "stdout"
        },
        {
          "output_type": "execute_result",
          "data": {
            "text/plain": [
              "<tensorflow.python.keras.callbacks.History at 0x7fd5fac28250>"
            ]
          },
          "metadata": {
            "tags": []
          },
          "execution_count": 25
        }
      ]
    },
    {
      "cell_type": "code",
      "metadata": {
        "id": "3SbYhVpkH4sS"
      },
      "source": [
        "classifications = model.predict(test_images)"
      ],
      "execution_count": 26,
      "outputs": []
    },
    {
      "cell_type": "code",
      "metadata": {
        "colab": {
          "base_uri": "https://localhost:8080/"
        },
        "id": "z1vSlrJ9IPjq",
        "outputId": "cf908e40-1fbd-4ab7-826b-935169c5b152"
      },
      "source": [
        "print(classifications[999])"
      ],
      "execution_count": 31,
      "outputs": [
        {
          "output_type": "stream",
          "text": [
            "[0. 0. 0. 0. 0. 0. 0. 1. 0. 0.]\n"
          ],
          "name": "stdout"
        }
      ]
    },
    {
      "cell_type": "code",
      "metadata": {
        "colab": {
          "base_uri": "https://localhost:8080/"
        },
        "id": "bww0VHAJITtC",
        "outputId": "e9eaf07c-673e-4392-d1f2-db804d6e0046"
      },
      "source": [
        "print(test_labels[999])"
      ],
      "execution_count": 32,
      "outputs": [
        {
          "output_type": "stream",
          "text": [
            "7\n"
          ],
          "name": "stdout"
        }
      ]
    },
    {
      "cell_type": "code",
      "metadata": {
        "id": "9x9AygXeIZNS"
      },
      "source": [
        ""
      ],
      "execution_count": null,
      "outputs": []
    }
  ]
}